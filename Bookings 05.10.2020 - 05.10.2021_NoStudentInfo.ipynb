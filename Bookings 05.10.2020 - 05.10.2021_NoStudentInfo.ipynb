{
 "cells": [
  {
   "cell_type": "markdown",
   "id": "tight-jerusalem",
   "metadata": {},
   "source": [
    "# Problem Definition\n",
    "\n",
    "With our current subscription plan to the Simplybook.me, we have 1200 bookings available per year. Last year and this year, we exceeded this figure. We would like to figure out the most feasible way to find our way around this problem and upgrade our subscription, if necessary."
   ]
  },
  {
   "cell_type": "code",
   "execution_count": 1,
   "id": "motivated-blackjack",
   "metadata": {},
   "outputs": [],
   "source": [
    "import pandas as pd\n",
    "import numpy as np\n",
    "import os\n",
    "from scipy import stats\n",
    "\n",
    "import seaborn as sns\n",
    "from matplotlib import pyplot as plt\n",
    "\n",
    "sns.set_style(\"darkgrid\")\n",
    "\n",
    "pd.set_option(\"display.max_columns\", None)\n",
    "\n",
    "df = pd.read_csv(\"./bookings.csv\", parse_dates = [\"Date\", \"Record date\"]) # From 05.10.2020 until 05.10.2021"
   ]
  },
  {
   "cell_type": "code",
   "execution_count": 2,
   "id": "manufactured-miniature",
   "metadata": {},
   "outputs": [],
   "source": [
    "keep = [\"Date\", \"Time\", \"Service\", \"Code\", \"Client name\", \"Client email\", \n",
    "        \"Record date\", \"Is cancelled\", \"Cancellation time\", \"Number of changes\", \"Matriculation Nr:\", \n",
    "        \"Department (Fakultät):\"]"
   ]
  },
  {
   "cell_type": "code",
   "execution_count": 3,
   "id": "stylish-fiber",
   "metadata": {},
   "outputs": [],
   "source": [
    "df = df[keep]"
   ]
  },
  {
   "cell_type": "markdown",
   "id": "extraordinary-warrant",
   "metadata": {},
   "source": [
    "# Exploratory Data Analysis"
   ]
  },
  {
   "cell_type": "code",
   "execution_count": 4,
   "id": "constitutional-research",
   "metadata": {},
   "outputs": [
    {
     "data": {
      "text/plain": [
       "1576"
      ]
     },
     "execution_count": 4,
     "metadata": {},
     "output_type": "execute_result"
    }
   ],
   "source": [
    "df.shape[0]"
   ]
  },
  {
   "cell_type": "markdown",
   "id": "phantom-profession",
   "metadata": {},
   "source": [
    "With duplicate registrations unaccounted for, we have about 1600 bookings. Our limit is 100 bookings per month, i.e. 1200 bookings per year. The exchange program application season is the most likely culprit in the surge in demand. I'm going to dive in a bit deeper to see the seasonality of the demand. "
   ]
  },
  {
   "cell_type": "code",
   "execution_count": 5,
   "id": "acquired-beast",
   "metadata": {},
   "outputs": [],
   "source": [
    "df['Month'] = df.Date.dt.month_name()"
   ]
  },
  {
   "cell_type": "code",
   "execution_count": 6,
   "id": "owned-evolution",
   "metadata": {},
   "outputs": [
    {
     "data": {
      "text/html": [
       "<div>\n",
       "<style scoped>\n",
       "    .dataframe tbody tr th:only-of-type {\n",
       "        vertical-align: middle;\n",
       "    }\n",
       "\n",
       "    .dataframe tbody tr th {\n",
       "        vertical-align: top;\n",
       "    }\n",
       "\n",
       "    .dataframe thead th {\n",
       "        text-align: right;\n",
       "    }\n",
       "</style>\n",
       "<table border=\"1\" class=\"dataframe\">\n",
       "  <thead>\n",
       "    <tr style=\"text-align: right;\">\n",
       "      <th></th>\n",
       "      <th>Month</th>\n",
       "      <th>Bookings</th>\n",
       "    </tr>\n",
       "  </thead>\n",
       "  <tbody>\n",
       "    <tr>\n",
       "      <th>4</th>\n",
       "      <td>January</td>\n",
       "      <td>238</td>\n",
       "    </tr>\n",
       "    <tr>\n",
       "      <th>3</th>\n",
       "      <td>February</td>\n",
       "      <td>40</td>\n",
       "    </tr>\n",
       "    <tr>\n",
       "      <th>7</th>\n",
       "      <td>March</td>\n",
       "      <td>45</td>\n",
       "    </tr>\n",
       "    <tr>\n",
       "      <th>0</th>\n",
       "      <td>April</td>\n",
       "      <td>135</td>\n",
       "    </tr>\n",
       "    <tr>\n",
       "      <th>8</th>\n",
       "      <td>May</td>\n",
       "      <td>101</td>\n",
       "    </tr>\n",
       "    <tr>\n",
       "      <th>6</th>\n",
       "      <td>June</td>\n",
       "      <td>84</td>\n",
       "    </tr>\n",
       "    <tr>\n",
       "      <th>5</th>\n",
       "      <td>July</td>\n",
       "      <td>46</td>\n",
       "    </tr>\n",
       "    <tr>\n",
       "      <th>1</th>\n",
       "      <td>August</td>\n",
       "      <td>99</td>\n",
       "    </tr>\n",
       "    <tr>\n",
       "      <th>11</th>\n",
       "      <td>September</td>\n",
       "      <td>148</td>\n",
       "    </tr>\n",
       "    <tr>\n",
       "      <th>10</th>\n",
       "      <td>October</td>\n",
       "      <td>169</td>\n",
       "    </tr>\n",
       "    <tr>\n",
       "      <th>9</th>\n",
       "      <td>November</td>\n",
       "      <td>286</td>\n",
       "    </tr>\n",
       "    <tr>\n",
       "      <th>2</th>\n",
       "      <td>December</td>\n",
       "      <td>185</td>\n",
       "    </tr>\n",
       "  </tbody>\n",
       "</table>\n",
       "</div>"
      ],
      "text/plain": [
       "        Month  Bookings\n",
       "4     January       238\n",
       "3    February        40\n",
       "7       March        45\n",
       "0       April       135\n",
       "8         May       101\n",
       "6        June        84\n",
       "5        July        46\n",
       "1      August        99\n",
       "11  September       148\n",
       "10    October       169\n",
       "9    November       286\n",
       "2    December       185"
      ]
     },
     "execution_count": 6,
     "metadata": {},
     "output_type": "execute_result"
    }
   ],
   "source": [
    "monthlyBookings = df.groupby('Month').size().reset_index(name = 'Bookings')\n",
    "\n",
    "sort_order = ['January', 'February', 'March', 'April', 'May','June', 'July', \n",
    "              'August', 'September', 'October', 'November', 'December']\n",
    "\n",
    "monthlyBookings['Month'] = pd.Categorical(monthlyBookings['Month'], categories = sort_order, ordered = True)\n",
    "\n",
    "monthlyBookings.sort_values(by = 'Month', inplace = True)\n",
    "\n",
    "monthlyBookings"
   ]
  },
  {
   "cell_type": "code",
   "execution_count": 7,
   "id": "wanted-canyon",
   "metadata": {},
   "outputs": [
    {
     "data": {
      "image/png": "[encoded data removed]",
      "text/plain": [
       "<Figure size 720x576 with 1 Axes>"
      ]
     },
     "metadata": {},
     "output_type": "display_data"
    }
   ],
   "source": [
    "monthlyBookings.plot(kind = 'bar', x = 'Month', y = 'Bookings', figsize = (10,8))\n",
    "\n",
    "plt.show()"
   ]
  },
  {
   "cell_type": "markdown",
   "id": "friendly-garbage",
   "metadata": {},
   "source": [
    "As long as we have some bookings left in the tank, we don't need to worry about the months where we surpass the 100 bookings/month metric. There are, however, three months where demand borders on 200 bookings or exceeds it. \n",
    "\n",
    "We start to pick up steam around September and October and reach peak demand by November. November, December, and January are by a large margin our busies months.\n",
    "\n",
    "If we eliminated all the duplicate bookings and made those spots available for other students who have never taken the test before, how many bookings would be enough?"
   ]
  },
  {
   "cell_type": "code",
   "execution_count": 8,
   "id": "classical-mustang",
   "metadata": {},
   "outputs": [
    {
     "data": {
      "text/plain": [
       "(338, 13)"
      ]
     },
     "execution_count": 8,
     "metadata": {},
     "output_type": "execute_result"
    }
   ],
   "source": [
    "wONr = df[df[['Client name']].duplicated()] # w/o mat nr\n",
    "wONr.shape # 338 duplicates when Matr Nr is not considered"
   ]
  },
  {
   "cell_type": "code",
   "execution_count": 9,
   "id": "embedded-routine",
   "metadata": {},
   "outputs": [
    {
     "data": {
      "text/plain": [
       "(326, 13)"
      ]
     },
     "execution_count": 9,
     "metadata": {},
     "output_type": "execute_result"
    }
   ],
   "source": [
    "withNr = df[df[['Client name', 'Matriculation Nr:']].duplicated()] # with mat nr\n",
    "withNr.shape # 326 duplicates when Matr Nr is considered"
   ]
  },
  {
   "cell_type": "markdown",
   "id": "colonial-taylor",
   "metadata": {},
   "source": [
    "From the looks of it, some students change their matriculation numbers and register themselves twice. Some examples:"
   ]
  },
  {
   "cell_type": "code",
   "execution_count": 10,
   "id": "senior-accessory",
   "metadata": {},
   "outputs": [],
   "source": [
    "df1 = wONr.merge(withNr, how = 'outer' ,indicator = True).loc[lambda x : x['_merge']=='left_only']"
   ]
  },
  {
   "cell_type": "markdown",
   "id": "departmental-tablet",
   "metadata": {},
   "source": [
    "Zoom in on the first student."
   ]
  },
  {
   "cell_type": "code",
   "execution_count": 11,
   "id": "simplified-chest",
   "metadata": {
    "scrolled": false
   },
   "outputs": [
    {
     "data": {
      "text/plain": [
       "(2, 13)"
      ]
     },
     "execution_count": 11,
     "metadata": {},
     "output_type": "execute_result"
    }
   ],
   "source": [
    "df[df['Client name'] == 'Jonas Böhm'].shape"
   ]
  },
  {
   "cell_type": "markdown",
   "id": "incorporated-pattern",
   "metadata": {},
   "source": [
    "This could be an honest mistake as this dude who gave the wrong matriculation number, then cancelled his first booking, and changed the exam date he prefers.\n",
    "\n",
    "When the status of the 'Is cancelled' column is taken into consideration, we get a better understanding of the situation."
   ]
  },
  {
   "cell_type": "code",
   "execution_count": 12,
   "id": "seeing-frederick",
   "metadata": {},
   "outputs": [
    {
     "name": "stdout",
     "output_type": "stream",
     "text": [
      "1401\n"
     ]
    }
   ],
   "source": [
    "# the total bookings - duplicates + cancelled duplicates\n",
    "\n",
    "print(df.shape[0] - wONr.shape[0]  + (wONr['Is cancelled'] != 'Yes').sum())"
   ]
  },
  {
   "cell_type": "markdown",
   "id": "complicated-society",
   "metadata": {},
   "source": [
    "So, we are about 2 months above our 1200 bookings/year limit. Since we are on the subject, I'll look into how many extra bookings I can go and cancel right now. Today is the 29th of September.\n",
    "\n",
    "I'm going to check the duplicate bookings for the upcoming exam dates that the student did not cancel."
   ]
  },
  {
   "cell_type": "code",
   "execution_count": 13,
   "id": "strategic-banana",
   "metadata": {},
   "outputs": [
    {
     "data": {
      "text/plain": [
       "(23, 13)"
      ]
     },
     "execution_count": 13,
     "metadata": {},
     "output_type": "execute_result"
    }
   ],
   "source": [
    "wONr[(wONr.Date > pd.Timestamp.now()) & (wONr['Is cancelled'] != 'Yes')].reset_index(drop = True).shape"
   ]
  },
  {
   "cell_type": "markdown",
   "id": "dirty-coordinator",
   "metadata": {},
   "source": [
    "The most exam spots I can save here are 25, which won't change much as we exceed the yearly limit by about 200 unique students.\n",
    "\n",
    "Let's take a look at the trend in the registration figures to make a data-driven decision instead of speculating. What can we expect to happen in the future? I'm going to inspect the data from the previous years to predict the next year's bookings and determine the trend in the growth in the bookings."
   ]
  },
  {
   "cell_type": "code",
   "execution_count": 14,
   "id": "upset-chorus",
   "metadata": {},
   "outputs": [],
   "source": [
    "os.chdir('./Previous_years') # this is the directory where data of the previous years are stored"
   ]
  },
  {
   "cell_type": "markdown",
   "id": "communist-metadata",
   "metadata": {},
   "source": [
    "The data for one year spans two years, but only three months are from the preceding year. As such, I chose to label the data as from the following year."
   ]
  },
  {
   "cell_type": "code",
   "execution_count": 15,
   "id": "fiscal-sphere",
   "metadata": {},
   "outputs": [],
   "source": [
    "years = np.array([2013, 2014, 2015, 2016, 2017, 2018, 2019, 2020, 2021])\n",
    "bookings = np.array([])\n",
    "\n",
    "for csv in os.listdir():\n",
    "    csv = pd.read_csv(csv)\n",
    "    bookings = np.append(bookings, csv.shape[0])\n",
    "\n",
    "bookings = np.append(bookings, df.shape[0]) # append 2021 at the end"
   ]
  },
  {
   "cell_type": "markdown",
   "id": "juvenile-prospect",
   "metadata": {},
   "source": [
    "# Data Analysis"
   ]
  },
  {
   "cell_type": "markdown",
   "id": "heavy-rating",
   "metadata": {},
   "source": [
    "I will regress the bookings onto years to forecast the bookings in the year 2022 and determine the overall trend in bookings."
   ]
  },
  {
   "cell_type": "code",
   "execution_count": 16,
   "id": "instructional-milwaukee",
   "metadata": {},
   "outputs": [
    {
     "name": "stdout",
     "output_type": "stream",
     "text": [
      "R-squared: 0.707254\n",
      "p-value: 0.000020\n"
     ]
    }
   ],
   "source": [
    "res = stats.linregress(years, bookings)\n",
    "\n",
    "print(f\"R-squared: {res.rvalue**2:.6f}\") # 71% of the variance in bookings could be explained with the year variable\n",
    "\n",
    "print(f\"p-value: {res.pvalue**2:.6f}\") \n",
    "# much, much lower than statistical significance threshold 1%. the relationship is statistically significant"
   ]
  },
  {
   "cell_type": "markdown",
   "id": "received-entity",
   "metadata": {},
   "source": [
    "Let's look at the yearly trend in the bookings and then plot the regression line."
   ]
  },
  {
   "cell_type": "code",
   "execution_count": 17,
   "id": "portuguese-defense",
   "metadata": {},
   "outputs": [
    {
     "data": {
      "image/png": "[encoded data removed]",
      "text/plain": [
       "<Figure size 720x432 with 1 Axes>"
      ]
     },
     "metadata": {},
     "output_type": "display_data"
    }
   ],
   "source": [
    "fig, ax = plt.subplots()\n",
    "fig.set_size_inches(10, 6)\n",
    "\n",
    "plt.plot(years, bookings, '--', label = 'Bookings')\n",
    "\n",
    "plt.legend()\n",
    "\n",
    "plt.show()"
   ]
  },
  {
   "cell_type": "markdown",
   "id": "logical-intent",
   "metadata": {},
   "source": [
    "Notice the upward, (mostly) linear trend! Our bookings are definitely on the rise, and looks like the demand will only increase next year. Let's fit a regression line."
   ]
  },
  {
   "cell_type": "code",
   "execution_count": 18,
   "id": "diverse-packaging",
   "metadata": {
    "scrolled": false
   },
   "outputs": [
    {
     "data": {
      "image/png": "[encoded data removed]",
      "text/plain": [
       "<Figure size 720x432 with 1 Axes>"
      ]
     },
     "metadata": {},
     "output_type": "display_data"
    }
   ],
   "source": [
    "fig, ax = plt.subplots()\n",
    "fig.set_size_inches(10, 6)\n",
    "\n",
    "plt.plot(years, bookings, 'o', label = 'Original data')\n",
    "\n",
    "plt.plot(years, res.intercept + res.slope * years, 'r', label = 'Fitted line')\n",
    "\n",
    "plt.legend()\n",
    "\n",
    "plt.show()"
   ]
  },
  {
   "cell_type": "markdown",
   "id": "corrected-favor",
   "metadata": {},
   "source": [
    "A quadratic or cubic polynomial would fit the data better, but you can easily see the trend in the bookings. Except for one year (2018), more and more students signed up for the test. It's reasonable to expect more bookings in 2022."
   ]
  },
  {
   "cell_type": "code",
   "execution_count": 19,
   "id": "reverse-setup",
   "metadata": {},
   "outputs": [
    {
     "data": {
      "text/plain": [
       "1777.305555555533"
      ]
     },
     "execution_count": 19,
     "metadata": {},
     "output_type": "execute_result"
    }
   ],
   "source": [
    "res.intercept + res.slope * 2022 \n",
    "\n",
    "# this could be the bookings next year, \n",
    "# should be taken with a grain of salt since linear regression is not the best fit"
   ]
  },
  {
   "cell_type": "code",
   "execution_count": 20,
   "id": "accompanied-wilson",
   "metadata": {},
   "outputs": [
    {
     "data": {
      "image/png": "[encoded data removed]",
      "text/plain": [
       "<Figure size 720x432 with 1 Axes>"
      ]
     },
     "metadata": {},
     "output_type": "display_data"
    }
   ],
   "source": [
    "fig, ax = plt.subplots()\n",
    "fig.set_size_inches(10, 6)\n",
    "\n",
    "sns.regplot(x = years, y = bookings, scatter = True, ci = 95, scatter_kws = {\"s\": 80})\n",
    "\n",
    "plt.ylim(600, 2000)\n",
    "plt.xlim(2012.5, 2021.5)\n",
    "\n",
    "# sns.despine()\n",
    "\n",
    "plt.show()"
   ]
  },
  {
   "cell_type": "code",
   "execution_count": 21,
   "id": "immediate-johnston",
   "metadata": {},
   "outputs": [
    {
     "data": {
      "image/png": "[encoded data removed]",
      "text/plain": [
       "<Figure size 720x432 with 1 Axes>"
      ]
     },
     "metadata": {},
     "output_type": "display_data"
    }
   ],
   "source": [
    "res1 = np.polyfit(years, bookings, 3)\n",
    "\n",
    "p = np.poly1d(res1) # the 3rd degree polynomial\n",
    "\n",
    "fig, ax = plt.subplots()\n",
    "fig.set_size_inches(10, 6)\n",
    "\n",
    "_ = plt.plot(years, bookings, 'o', years, p(years)) # notice the upward trend\n",
    "\n",
    "\n",
    "plt.show()"
   ]
  },
  {
   "cell_type": "markdown",
   "id": "inappropriate-damage",
   "metadata": {},
   "source": [
    "# Possible Solutions"
   ]
  },
  {
   "cell_type": "markdown",
   "id": "sustainable-welsh",
   "metadata": {},
   "source": [
    "What should be done here, given that the demand will most likely increase in the upcoming years?\n",
    "\n",
    "We currently pay 80 €/year for the basic plan, which grants us 1200 bookings per year. Even if the bookings stay constant for the next year, we will still need about 300 extra bookings to cover the demand.\n",
    "\n",
    "Here are our options:\n",
    "\n",
    " - Move from basic subscription plan to standard subscription plan.\n",
    " \n",
    "     - The standard subscription plan gives 500 bookings per month. We overshoot the demand by about 4000 extra bookings. We would pay 250 €/year. Extra €170 cost incurred. Not recommended.\n",
    "     \n",
    " - Buy additional bookings\n",
    " \n",
    "     - This one makes sense as it's cheaper than switching to the standard subscription plan. Simplybook.me sells 2000 extra bookings for €65. The amount is fixed, we can't bargain for fewer bookings and pay less. About 1700 bookings would go to waste. \n",
    "     \n",
    " - Cut some exams\n",
    " \n",
    "    - This is the option that costs nothing to implement. In our three busiest months (November, December, and January) and in the run-up to these three (the month of October - 170 bookings), we could slash one week and offer three exams per month instead of weekly exams. \n",
    "     "
   ]
  },
  {
   "cell_type": "markdown",
   "id": "pressing-competition",
   "metadata": {},
   "source": [
    "# Takeaways\n",
    "\n",
    "- Even when the duplicate records are removed, we are above the 1200 bookings/year threshold.\n",
    "- There's a strong positive linear relationship between years vs. bookings. \n",
    "- 71% of the variation in bookings can be attributed to the years (p-value = 0.000020)\n",
    "- The bookings will most likely increase next year.\n",
    "- To stem the tide, we have three options:\n",
    " - Upgrade to the standard plan, waste about 4000 bookings, and pay €170 more.\n",
    " - Buy extra bookings, waste about 1700 bookings, and pay €65 more.\n",
    " - Cancel one week in each of the busiest four months, let fewer students take the test, and pay nothing.\n",
    "- Plans are rigid, and there's no room for flexibility."
   ]
  }
 ],
 "metadata": {
  "kernelspec": {
   "display_name": "Python 3",
   "language": "python",
   "name": "python3"
  },
  "language_info": {
   "codemirror_mode": {
    "name": "ipython",
    "version": 3
   },
   "file_extension": ".py",
   "mimetype": "text/x-python",
   "name": "python",
   "nbconvert_exporter": "python",
   "pygments_lexer": "ipython3",
   "version": "3.9.2"
  }
 },
 "nbformat": 4,
 "nbformat_minor": 5
}
